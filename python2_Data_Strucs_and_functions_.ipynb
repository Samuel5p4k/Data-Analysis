{
  "cells": [
    {
      "cell_type": "markdown",
      "metadata": {
        "id": "L_qTA9mfJB63"
      },
      "source": [
        "# Imports"
      ]
    },
    {
      "cell_type": "code",
      "execution_count": 1,
      "metadata": {
        "id": "izL7BM7WOVVl"
      },
      "outputs": [],
      "source": [
        "import pandas as pd"
      ]
    },
    {
      "cell_type": "markdown",
      "metadata": {
        "id": "NqWEfOeIN6l0"
      },
      "source": [
        "# Data Structures"
      ]
    },
    {
      "cell_type": "code",
      "execution_count": 2,
      "metadata": {
        "colab": {
          "base_uri": "https://localhost:8080/"
        },
        "id": "OxL6GJXIJR2A",
        "outputId": "19946417-e6ae-4800-b387-07a28542b439"
      },
      "outputs": [
        {
          "data": {
            "text/plain": [
              "(4, 5, 6, 7, 8)"
            ]
          },
          "execution_count": 2,
          "metadata": {},
          "output_type": "execute_result"
        }
      ],
      "source": [
        "# tuple: tuple is a fixed length\n",
        "tup = (4, 5, 6, 7, 8)\n",
        "\n",
        "tup"
      ]
    },
    {
      "cell_type": "code",
      "execution_count": 3,
      "metadata": {
        "colab": {
          "base_uri": "https://localhost:8080/"
        },
        "id": "9gplSqQuK6J9",
        "outputId": "34b6dfde-4373-4853-dbdc-f5c103bc8471"
      },
      "outputs": [
        {
          "data": {
            "text/plain": [
              "(4, 5, 6, 7)"
            ]
          },
          "execution_count": 3,
          "metadata": {},
          "output_type": "execute_result"
        }
      ],
      "source": [
        "tuple ([4, 5, 6, 7])\n"
      ]
    },
    {
      "cell_type": "code",
      "execution_count": 4,
      "metadata": {
        "colab": {
          "base_uri": "https://localhost:8080/"
        },
        "id": "IZQcdSqYLLjP",
        "outputId": "e2b5454e-8387-405e-a247-358a39706152"
      },
      "outputs": [
        {
          "data": {
            "text/plain": [
              "('S', 'a', 'm', 'u', 'e', 'l')"
            ]
          },
          "execution_count": 4,
          "metadata": {},
          "output_type": "execute_result"
        }
      ],
      "source": [
        "tup = tuple ('Samuel')\n",
        "tup\n"
      ]
    },
    {
      "cell_type": "code",
      "execution_count": 5,
      "metadata": {
        "colab": {
          "base_uri": "https://localhost:8080/"
        },
        "id": "a-ULn1EuLhAT",
        "outputId": "b2628e0f-5fe0-42b3-8c1c-325b1cbca9cf"
      },
      "outputs": [
        {
          "data": {
            "text/plain": [
              "('m', 'u', 'e')"
            ]
          },
          "execution_count": 5,
          "metadata": {},
          "output_type": "execute_result"
        }
      ],
      "source": [
        "tup[2:5]"
      ]
    },
    {
      "cell_type": "code",
      "execution_count": 6,
      "metadata": {
        "colab": {
          "base_uri": "https://localhost:8080/"
        },
        "id": "bvayZbFVLmpr",
        "outputId": "1242a46d-5f59-47c1-dfe1-f09db340f5f7"
      },
      "outputs": [
        {
          "data": {
            "text/plain": [
              "('a', 'm', 'u')"
            ]
          },
          "execution_count": 6,
          "metadata": {},
          "output_type": "execute_result"
        }
      ],
      "source": [
        "tup[1:4]"
      ]
    },
    {
      "cell_type": "code",
      "execution_count": null,
      "metadata": {
        "id": "uPLTExK2OiFM"
      },
      "outputs": [],
      "source": [
        "# lists\n",
        "ls = [\"this\", \"is\", \"Africa\"]"
      ]
    },
    {
      "cell_type": "code",
      "execution_count": null,
      "metadata": {
        "colab": {
          "base_uri": "https://localhost:8080/"
        },
        "id": "o9hrNqWlPhJN",
        "outputId": "0e491acd-7fb4-430f-acbb-dc0e129fcc7e"
      },
      "outputs": [
        {
          "data": {
            "text/plain": [
              "[2, 3, 4, 5]"
            ]
          },
          "execution_count": 19,
          "metadata": {},
          "output_type": "execute_result"
        }
      ],
      "source": [
        "seq = [1, 2, 3, 4, 5, 6, 9, 7, 8, 9]\n",
        "seq [1:5]"
      ]
    },
    {
      "cell_type": "code",
      "execution_count": null,
      "metadata": {
        "colab": {
          "base_uri": "https://localhost:8080/"
        },
        "id": "_aYr9wIfQNnV",
        "outputId": "8a6b2b7c-b18c-44c1-baa8-b19197dd59e3"
      },
      "outputs": [
        {
          "data": {
            "text/plain": [
              "{'a': 'Samuel', 'b': [0, 7, 5, 6]}"
            ]
          },
          "execution_count": 20,
          "metadata": {},
          "output_type": "execute_result"
        }
      ],
      "source": [
        "empty_dict = {}\n",
        "d1 = {\"a\": \"Samuel\", \"b\": [0,7,5,6]}\n",
        "d1"
      ]
    },
    {
      "cell_type": "code",
      "execution_count": null,
      "metadata": {
        "id": "A2fTGL0BSmk_"
      },
      "outputs": [],
      "source": [
        "list = [a, b, c, d, e]"
      ]
    },
    {
      "cell_type": "code",
      "execution_count": 9,
      "metadata": {
        "colab": {
          "base_uri": "https://localhost:8080/"
        },
        "id": "RzSmRyARTihu",
        "outputId": "b31626af-08c2-4b60-a1f2-e6e5aa50d457"
      },
      "outputs": [
        {
          "data": {
            "text/plain": [
              "<zip at 0x1b1de0ae680>"
            ]
          },
          "execution_count": 9,
          "metadata": {},
          "output_type": "execute_result"
        }
      ],
      "source": [
        "tuples = zip(range(5), reversed(range(5)))\n",
        "tuples"
      ]
    },
    {
      "cell_type": "code",
      "execution_count": 10,
      "metadata": {
        "colab": {
          "base_uri": "https://localhost:8080/"
        },
        "id": "aRwUc_TUUOIK",
        "outputId": "15a06be5-3f89-4053-cde2-c3424ebb9cd5"
      },
      "outputs": [
        {
          "data": {
            "text/plain": [
              "{0: 4, 1: 3, 2: 2, 3: 1, 4: 0}"
            ]
          },
          "execution_count": 10,
          "metadata": {},
          "output_type": "execute_result"
        }
      ],
      "source": [
        "mapping = dict(tuples)\n",
        "mapping"
      ]
    },
    {
      "cell_type": "markdown",
      "metadata": {
        "id": "dQeel8nwXrc3"
      },
      "source": [
        "# Functions"
      ]
    },
    {
      "cell_type": "code",
      "execution_count": 11,
      "metadata": {
        "id": "VPaze8Y9Xs33"
      },
      "outputs": [],
      "source": [
        "# Functions\n",
        "def myfunc (a, b):\n",
        "  return a/b"
      ]
    },
    {
      "cell_type": "code",
      "execution_count": 12,
      "metadata": {
        "colab": {
          "base_uri": "https://localhost:8080/"
        },
        "id": "KaUTIYwoYDYk",
        "outputId": "48c9e98d-2e32-4b38-b072-36488b5f22cc"
      },
      "outputs": [
        {
          "data": {
            "text/plain": [
              "1.3333333333333333"
            ]
          },
          "execution_count": 12,
          "metadata": {},
          "output_type": "execute_result"
        }
      ],
      "source": [
        "myfunc(4, 3)"
      ]
    }
  ],
  "metadata": {
    "colab": {
      "provenance": [],
      "toc_visible": true
    },
    "kernelspec": {
      "display_name": "Python 3",
      "name": "python3"
    },
    "language_info": {
      "codemirror_mode": {
        "name": "ipython",
        "version": 3
      },
      "file_extension": ".py",
      "mimetype": "text/x-python",
      "name": "python",
      "nbconvert_exporter": "python",
      "pygments_lexer": "ipython3",
      "version": "3.12.2"
    }
  },
  "nbformat": 4,
  "nbformat_minor": 0
}
